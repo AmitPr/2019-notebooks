{
 "cells": [
  {
   "cell_type": "code",
   "execution_count": 2,
   "metadata": {},
   "outputs": [],
   "source": [
    "from __future__ import absolute_import, division, print_function, unicode_literals\n",
    "%load_ext autoreload\n",
    "%autoreload 2\n",
    "%matplotlib inline\n",
    "import sklearn.metrics as metrics\n",
    "\n",
    "import numpy as np\n",
    "import random\n",
    "import math\n",
    "import os\n",
    "from datetime import datetime\n",
    "\n",
    "import DataGenerator as DG\n",
    "from DataGenerator import DataGenerator\n",
    "\n",
    "import matplotlib.pyplot as plt\n",
    "\n",
    "import h5py\n",
    "\n",
    "###FIX NUMPY LOAD FOR DICTIONARIES\n",
    "np_load_old = np.load\n",
    "np.load = lambda *a,**k: np_load_old(*a, allow_pickle=True, **k)"
   ]
  },
  {
   "cell_type": "code",
   "execution_count": 3,
   "metadata": {},
   "outputs": [
    {
     "name": "stdout",
     "output_type": "stream",
     "text": [
      "Using path:  /mnt/disks/sec/Amit/images_synthetic_mouse.h5\n"
     ]
    }
   ],
   "source": [
    "filepath = \"images_synthetic_mouse.h5\"\n",
    "destpath = \"images_synthetic_mouse_uncompressed.h5\"\n",
    "scratch_dir = \"/mnt/disks/sec/Amit/\"\n",
    "#Copy file to scratch directory if it is specified, and change filepath to match.\n",
    "if not os.path.exists((scratch_dir+filepath)):\n",
    "    copy(filepath,scratch_dir)\n",
    "    print(\"File Copied to scratch directory\")\n",
    "filepath=scratch_dir+filepath\n",
    "print(\"Using path: \",filepath)\n",
    "#if os.path.exists(scratch_dir+destpath):\n",
    "#    os.remove(scratch_dir+destpath)\n",
    "#with h5py.File(scratch_dir+destpath,'w') as wf:\n",
    "#    with h5py.File(filepath,'r') as f:\n",
    "#        print(\"Exporting frames\")\n",
    "#        wf.create_dataset(\"/frames/raw\",data=f[\"/frames/raw\"], compression=\"gzip\", compression_opts=0)\n",
    "#        print(\"Exporting labels\")\n",
    "#        wf.create_dataset(\"/labels\",data=f[\"/labels\"], compression=\"gzip\", compression_opts=0)"
   ]
  },
  {
   "cell_type": "code",
   "execution_count": 7,
   "metadata": {
    "scrolled": false
   },
   "outputs": [
    {
     "data": {
      "image/png": "[encoded data removed]",
      "text/plain": [
       "<Figure size 432x288 with 1 Axes>"
      ]
     },
     "metadata": {
      "needs_background": "light"
     },
     "output_type": "display_data"
    },
    {
     "data": {
      "image/png": "[encoded data removed]",
      "text/plain": [
       "<Figure size 432x288 with 1 Axes>"
      ]
     },
     "metadata": {
      "needs_background": "light"
     },
     "output_type": "display_data"
    },
    {
     "name": "stdout",
     "output_type": "stream",
     "text": [
      "(array([-5,  0,  1,  2,  3,  4,  5,  6,  7,  8,  9, 10, 11, 12, 13, 14, 15,\n",
      "       16, 17, 18, 19, 20, 21, 22, 23, 24, 25, 26, 27, 28, 29, 30, 31, 32,\n",
      "       33, 34, 35, 36, 37, 38, 39, 40, 41, 42, 43, 44, 45, 46, 47, 48, 49,\n",
      "       50, 51, 52, 53, 54, 55, 56, 57, 58], dtype=int16), array([   58, 21362, 43337, 31589, 17199, 32991, 16086, 42738, 31608,\n",
      "       35125, 38005, 24432, 30217, 25377, 29237, 26537, 20716, 24494,\n",
      "       17645, 17640, 19612, 15931, 28594, 18478, 19781, 17040, 25985,\n",
      "       25137, 18223, 24878, 15482, 25253, 20606, 14456, 15844, 14140,\n",
      "       21679, 17203, 29051, 11838, 11755, 17407, 38353,  2158, 12745,\n",
      "        3465, 10105, 19090, 25174, 12968,    36,   109,    41,   139,\n",
      "         119,    21,    18,    42,    30,    83]))\n",
      "1079462\n"
     ]
    }
   ],
   "source": [
    "with h5py.File(filepath,'r') as f:\n",
    "    #print(len(np.unique(f[\"/labels\"])))\n",
    "    depth = 10\n",
    "    #data_gen = DataGenerator(filepath,data_amount=100000,batch_size=30000,frames_per_sample=depth,offset=0,sliding_window=1)\n",
    "    subset = f[\"/labels\"][700100:870100]#data_gen.__getitem__(0)#\n",
    "    plt.hist(subset,len(np.unique(subset)))\n",
    "    plt.show()\n",
    "    subset = f[\"/labels\"][::]#data_gen.__getitem__(0)#\n",
    "    plt.hist(subset,len(np.unique(subset)))\n",
    "    plt.show()\n",
    "    print(np.unique(subset,return_counts=True))\n",
    "    print(len(f[\"/labels\"]))"
   ]
  },
  {
   "cell_type": "code",
   "execution_count": null,
   "metadata": {},
   "outputs": [],
   "source": [
    "from distutils.sysconfig import get_python_lib\n",
    "print(get_python_lib())"
   ]
  },
  {
   "cell_type": "code",
   "execution_count": null,
   "metadata": {},
   "outputs": [],
   "source": [
    "x= 0\n",
    "' ' + str((x>0)) + ' ' + str(x)"
   ]
  },
  {
   "cell_type": "code",
   "execution_count": 5,
   "metadata": {},
   "outputs": [
    {
     "name": "stdout",
     "output_type": "stream",
     "text": [
      "sbatch --job-name train --output \"/home/g17amitprasad_gmail_com/2019-notebooks/Action Recognition/train-%j.log\" --partition debug -n 16 --mem 48GB --time 120:00:00 --gres gpu:1 --wrap=\"/home/g17amitprasad_gmail_com/miniconda3/envs/tf2_gpu/bin/python train_model.py train --data-amount 500000 --data-offset 100000 --validation-amount 10000 --validation-offset 1000000 --batch-size 8 --slide 1 --verbosity 0 --epochs 50 --depth 10 --dropout 0.1 --filters 32 --optimizer RMSProp '/home/g17amitprasad_gmail_com/2019-notebooks/Action Recognition/images_synthetic_mouse.h5' '/home/g17amitprasad_gmail_com/2019-notebooks/Action Recognition/training-%s/' \"\n"
     ]
    }
   ],
   "source": [
    "def create_sbatch(outdir = 'training',\n",
    "                  job_name='train',\n",
    "                  cores=8,\n",
    "                  mem='16GB',\n",
    "                  max_time='120:00:00',\n",
    "                  data_file = 'images_synthetic_mouse.h5',\n",
    "                  data_amount = 0,\n",
    "                  data_offset = 0,\n",
    "                  validation_amount = 0,\n",
    "                  validation_offset = 0,\n",
    "                  batch_size = 8,\n",
    "                  slide = 5,\n",
    "                  verbosity = 1,\n",
    "                  epochs = 40,\n",
    "                  dropout_chance = 0,\n",
    "                  frames_per_sample = 10,\n",
    "                  filters = 8,\n",
    "                  optimizer = 'SGD',\n",
    "                  lstm_units = 512\n",
    "                 ):\n",
    "    cmd = 'sbatch '\n",
    "    cmd += '--job-name ' + job_name + ' '\n",
    "    cmd += '--output \"' + os.getcwd() + '/train-%j.log\" '\n",
    "    cmd += '--partition small-gpu-b-preemptible '\n",
    "    cmd += '-n ' + str(cores) + ' '\n",
    "    cmd += '--mem ' + mem + ' '\n",
    "    cmd += '--time ' + max_time + ' '\n",
    "    cmd += '--wrap=\"' + os.path.expanduser(\"~\") + '/miniconda3/envs/tf2_gpu/bin/python train_model.py train '\n",
    "    cmd += '--data-amount ' + str(data_amount) + ' '\n",
    "    cmd += '--data-offset ' + str(data_offset) + ' '\n",
    "    cmd += '--validation-amount ' + str(validation_amount) + ' '\n",
    "    cmd += '--validation-offset ' + str(validation_offset) + ' '\n",
    "    cmd += '--batch-size ' + str(batch_size) + ' '\n",
    "    cmd += '--slide ' + str(slide) + ' '\n",
    "    cmd += '--verbosity ' + str(verbosity) + ' '\n",
    "    cmd += '--epochs ' + str(epochs) + ' '\n",
    "    cmd += '--depth ' + str(frames_per_sample) + ' '\n",
    "    cmd += '--dropout ' + str(dropout_chance) + ' '\n",
    "    cmd += '--filters ' + str(filters) + ' '\n",
    "    cmd += '--lstm-units ' + str(lstm_units) + ' '\n",
    "    cmd += '--optimizer ' + optimizer + ' '\n",
    "    cmd += \"'\" + data_file +\"' \"\n",
    "    cmd += \"'\" + os.getcwd() + '/' + outdir + '-%s/' +\"' \"\n",
    "    cmd += '\"'\n",
    "    return cmd\n",
    "for i in range(0,5):\n",
    "    lstm_units = 2**(i+7)\n",
    "    for j in range(0,5):\n",
    "        #os.system(create_sbatch(data_file=filepath,\n",
    "        #          outdir='training-'+str(i)+'-'+str(j),\n",
    "        #          data_amount = 800000,\n",
    "        #          data_offset = 0,\n",
    "        #          validation_amount=30000,\n",
    "        #          validation_offset=800100,\n",
    "        #          slide = 1,\n",
    "        #          dropout_chance=j/10,\n",
    "        #          filters = 16,\n",
    "        #          epochs=8,\n",
    "        #          verbosity=0,\n",
    "        #          lstm_units=lstm_units))\n",
    "        pass"
   ]
  }
 ],
 "metadata": {
  "kernelspec": {
   "display_name": "Python 3",
   "language": "python",
   "name": "python3"
  },
  "language_info": {
   "codemirror_mode": {
    "name": "ipython",
    "version": 3
   },
   "file_extension": ".py",
   "mimetype": "text/x-python",
   "name": "python",
   "nbconvert_exporter": "python",
   "pygments_lexer": "ipython3",
   "version": "3.6.9"
  }
 },
 "nbformat": 4,
 "nbformat_minor": 2
}
