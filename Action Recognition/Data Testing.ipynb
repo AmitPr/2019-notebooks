{
 "cells": [
  {
   "cell_type": "code",
   "execution_count": 2,
   "metadata": {},
   "outputs": [],
   "source": [
    "from __future__ import absolute_import, division, print_function, unicode_literals\n",
    "%load_ext autoreload\n",
    "%autoreload 2\n",
    "%matplotlib inline\n",
    "import sklearn.metrics as metrics\n",
    "\n",
    "import numpy as np\n",
    "import random\n",
    "import math\n",
    "import os\n",
    "from datetime import datetime\n",
    "\n",
    "import DataGenerator as DG\n",
    "from DataGenerator import DataGenerator\n",
    "\n",
    "import matplotlib.pyplot as plt\n",
    "\n",
    "import h5py\n",
    "\n",
    "###FIX NUMPY LOAD FOR DICTIONARIES\n",
    "np_load_old = np.load\n",
    "np.load = lambda *a,**k: np_load_old(*a, allow_pickle=True, **k)"
   ]
  },
  {
   "cell_type": "code",
   "execution_count": 43,
   "metadata": {},
   "outputs": [
    {
     "name": "stdout",
     "output_type": "stream",
     "text": [
      "1079462\n"
     ]
    }
   ],
   "source": [
    "filepath = \"images_synthetic_mouse.h5\"\n",
    "with h5py.File(filepath,'r') as f:\n",
    "    print(len(f[\"/labels\"]))"
   ]
  },
  {
   "cell_type": "code",
   "execution_count": 12,
   "metadata": {
    "scrolled": false
   },
   "outputs": [
    {
     "name": "stdout",
     "output_type": "stream",
     "text": [
      "60\n"
     ]
    },
    {
     "data": {
      "image/png": "[encoded data removed]",
      "text/plain": [
       "<Figure size 432x288 with 1 Axes>"
      ]
     },
     "metadata": {
      "needs_background": "light"
     },
     "output_type": "display_data"
    },
    {
     "ename": "TypeError",
     "evalue": "only integer scalar arrays can be converted to a scalar index",
     "output_type": "error",
     "traceback": [
      "\u001b[0;31m---------------------------------------------------------------------------\u001b[0m",
      "\u001b[0;31mTypeError\u001b[0m                                 Traceback (most recent call last)",
      "\u001b[0;32m<ipython-input-12-67d709e9f351>\u001b[0m in \u001b[0;36m<module>\u001b[0;34m\u001b[0m\n\u001b[1;32m      9\u001b[0m     \u001b[0;32mfor\u001b[0m \u001b[0mi\u001b[0m \u001b[0;32min\u001b[0m \u001b[0mrange\u001b[0m\u001b[0;34m(\u001b[0m\u001b[0;36m0\u001b[0m\u001b[0;34m,\u001b[0m\u001b[0;36m10\u001b[0m\u001b[0;34m)\u001b[0m\u001b[0;34m:\u001b[0m\u001b[0;34m\u001b[0m\u001b[0;34m\u001b[0m\u001b[0m\n\u001b[1;32m     10\u001b[0m         \u001b[0mdat\u001b[0m\u001b[0;34m,\u001b[0m\u001b[0mlbl2\u001b[0m \u001b[0;34m=\u001b[0m \u001b[0mdata_gen\u001b[0m\u001b[0;34m.\u001b[0m\u001b[0m__getitem__\u001b[0m\u001b[0;34m(\u001b[0m\u001b[0mi\u001b[0m\u001b[0;34m)\u001b[0m\u001b[0;34m\u001b[0m\u001b[0;34m\u001b[0m\u001b[0m\n\u001b[0;32m---> 11\u001b[0;31m         \u001b[0mlbl\u001b[0m\u001b[0;34m=\u001b[0m\u001b[0mnp\u001b[0m\u001b[0;34m.\u001b[0m\u001b[0mconcatenate\u001b[0m\u001b[0;34m(\u001b[0m\u001b[0mlbl\u001b[0m\u001b[0;34m,\u001b[0m\u001b[0mlbl2\u001b[0m\u001b[0;34m)\u001b[0m\u001b[0;34m\u001b[0m\u001b[0;34m\u001b[0m\u001b[0m\n\u001b[0m\u001b[1;32m     12\u001b[0m     \u001b[0mplt\u001b[0m\u001b[0;34m.\u001b[0m\u001b[0mhist\u001b[0m\u001b[0;34m(\u001b[0m\u001b[0mlbl\u001b[0m\u001b[0;34m,\u001b[0m\u001b[0mlen\u001b[0m\u001b[0;34m(\u001b[0m\u001b[0mnp\u001b[0m\u001b[0;34m.\u001b[0m\u001b[0munique\u001b[0m\u001b[0;34m(\u001b[0m\u001b[0mlbl\u001b[0m\u001b[0;34m)\u001b[0m\u001b[0;34m)\u001b[0m\u001b[0;34m)\u001b[0m\u001b[0;34m\u001b[0m\u001b[0;34m\u001b[0m\u001b[0m\n\u001b[1;32m     13\u001b[0m     \u001b[0mplt\u001b[0m\u001b[0;34m.\u001b[0m\u001b[0mshow\u001b[0m\u001b[0;34m(\u001b[0m\u001b[0;34m)\u001b[0m\u001b[0;34m\u001b[0m\u001b[0;34m\u001b[0m\u001b[0m\n",
      "\u001b[0;31mTypeError\u001b[0m: only integer scalar arrays can be converted to a scalar index"
     ]
    }
   ],
   "source": [
    "with h5py.File(filepath,'r') as f:\n",
    "    print(len(np.unique(f[\"/labels\"])))\n",
    "    depth = 10\n",
    "    data_gen = DataGenerator(filepath,data_amount=100000,batch_size=int(100000/depth),frames_per_sample=depth,offset=0,sliding_window=1)\n",
    "    subset = f[\"/labels\"][0:100000]\n",
    "    plt.hist(subset,len(np.unique(subset)))\n",
    "    plt.show()\n",
    "    lbl = np.array([0],dtype='uint8')\n",
    "    for i in range(0,10):\n",
    "        dat,lbl2 = data_gen.__getitem__(i)\n",
    "        lbl=np.concatenate(lbl,lbl2)\n",
    "    plt.hist(lbl,len(np.unique(lbl)))\n",
    "    plt.show()\n",
    "    print(np.unique(lbl,return_counts=True))"
   ]
  },
  {
   "cell_type": "code",
   "execution_count": 14,
   "metadata": {},
   "outputs": [
    {
     "name": "stdout",
     "output_type": "stream",
     "text": [
      "/home/g17amitprasad_gmail_com/miniconda3/envs/tf2_gpu/lib/python3.6/site-packages\n"
     ]
    }
   ],
   "source": [
    "from distutils.sysconfig import get_python_lib\n",
    "print(get_python_lib())"
   ]
  },
  {
   "cell_type": "code",
   "execution_count": 14,
   "metadata": {},
   "outputs": [
    {
     "data": {
      "text/plain": [
       "' False 0'"
      ]
     },
     "execution_count": 14,
     "metadata": {},
     "output_type": "execute_result"
    }
   ],
   "source": [
    "x= 0\n",
    "' ' + str((x>0)) + ' ' + str(x)"
   ]
  },
  {
   "cell_type": "code",
   "execution_count": 3,
   "metadata": {},
   "outputs": [
    {
     "name": "stdout",
     "output_type": "stream",
     "text": [
      "sbatch --job-name train --output \"/home/g17amitprasad_gmail_com/2019-notebooks/Action Recognition/train-%j.log\" --partition debug -n 16 --mem 48GB --time 120:00:00 --gres gpu:1 --wrap=\"/home/g17amitprasad_gmail_com/miniconda3/envs/tf2_gpu/bin/python train_model.py train --data-amount 800000 --data-offset 0 --validation-amount 10000 --validation-offset 810000 --batch-size 8 --verbosity 1 --epochs 50 --depth 10 --dropout 0.1 '/home/g17amitprasad_gmail_com/2019-notebooks/Action Recognition/images_synthetic_mouse.h5' '/home/g17amitprasad_gmail_com/2019-notebooks/Action Recognition/training-2019-08-01-22-19/' \"\n"
     ]
    }
   ],
   "source": [
    "def create_sbatch(outdir = 'training',\n",
    "                  job_name='train',\n",
    "                  cores=16,\n",
    "                  mem='48GB',\n",
    "                  max_time='120:00:00',\n",
    "                  num_gpus=1,\n",
    "                  data_file = 'images_synthetic_mouse.h5',\n",
    "                  data_amount = 0,\n",
    "                  data_offset = 0,\n",
    "                  validation_amount = 0,\n",
    "                  validation_offset = 0,\n",
    "                  batch_size = 8,\n",
    "                  verbosity = 1,\n",
    "                  epochs = 40,\n",
    "                  dropout_chance = 0,\n",
    "                  frames_per_sample = 10\n",
    "                 ):\n",
    "    cmd = 'sbatch '\n",
    "    cmd += '--job-name ' + job_name + ' '\n",
    "    cmd += '--output \"' + os.getcwd() + '/train-%j.log\" '\n",
    "    cmd += '--partition debug '\n",
    "    cmd += '-n ' + str(cores) + ' '\n",
    "    cmd += '--mem ' + mem + ' '\n",
    "    cmd += '--time ' + max_time + ' '\n",
    "    cmd += '--gres gpu:' + str(num_gpus) + ' '\n",
    "    cmd += '--wrap=\"' + os.path.expanduser(\"~\") + '/miniconda3/envs/tf2_gpu/bin/python train_model.py train '\n",
    "    cmd += '--data-amount ' + str(data_amount) + ' '\n",
    "    cmd += '--data-offset ' + str(data_offset) + ' '\n",
    "    cmd += '--validation-amount ' + str(validation_amount) + ' '\n",
    "    cmd += '--validation-offset ' + str(validation_offset) + ' '\n",
    "    cmd += '--batch-size ' + str(batch_size) + ' '\n",
    "    cmd += '--verbosity ' + str(verbosity) + ' '\n",
    "    cmd += '--epochs ' + str(epochs) + ' '\n",
    "    cmd += '--depth ' + str(frames_per_sample) + ' '\n",
    "    cmd += '--dropout ' + str(dropout_chance) + ' '\n",
    "    cmd += \"'\" + os.getcwd() + '/' + data_file +\"' \"\n",
    "    cmd += \"'\" + os.getcwd() + '/' + outdir + datetime.today().strftime('-%Y-%m-%d-%H-%M')+ '/' +\"' \"\n",
    "    cmd += '\"'\n",
    "    return cmd\n",
    "print(create_sbatch(outdir='training',\n",
    "              data_amount = 800000,\n",
    "              data_offset = 0,\n",
    "              validation_amount=10000,\n",
    "              validation_offset=810000,\n",
    "              dropout_chance=0.1,\n",
    "              epochs=50,\n",
    "              verbosity=1))"
   ]
  },
  {
   "cell_type": "code",
   "execution_count": null,
   "metadata": {},
   "outputs": [],
   "source": []
  }
 ],
 "metadata": {
  "kernelspec": {
   "display_name": "Python 3",
   "language": "python",
   "name": "python3"
  },
  "language_info": {
   "codemirror_mode": {
    "name": "ipython",
    "version": 3
   },
   "file_extension": ".py",
   "mimetype": "text/x-python",
   "name": "python",
   "nbconvert_exporter": "python",
   "pygments_lexer": "ipython3",
   "version": "3.6.8"
  }
 },
 "nbformat": 4,
 "nbformat_minor": 2
}
