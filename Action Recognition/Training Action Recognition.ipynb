{
 "cells": [
  {
   "cell_type": "code",
   "execution_count": 1,
   "metadata": {
    "scrolled": true
   },
   "outputs": [],
   "source": [
    "from __future__ import absolute_import, division, print_function, unicode_literals\n",
    "%matplotlib inline\n",
    "%load_ext autoreload\n",
    "%autoreload 2\n",
    "import tensorflow as tf\n",
    "from tensorflow import keras\n",
    "\n",
    "import DataGenerator as DG\n",
    "from DataGenerator import DataGenerator\n",
    "\n",
    "from tensorflow.keras import layers\n",
    "from tensorflow.keras.callbacks import TensorBoard\n",
    "#Progress bar fix: use callbacks=[Logger.JupyterProgbarLogger()] in model.fit\n",
    "#verbose=0 is also required\n",
    "import JupyterProgbarLogger as Logger\n",
    "from tqdm import tqdm_notebook as tqdm\n",
    "#from kerastuner.tuners import RandomSearch\n",
    "\n",
    "\n",
    "import sklearn.metrics as metrics\n",
    "\n",
    "import numpy as np\n",
    "import random\n",
    "import math\n",
    "\n",
    "import matplotlib.pyplot as plt\n",
    "\n",
    "import h5py\n",
    "\n",
    "###FIX NUMPY LOAD FOR DICTIONARIES\n",
    "np_load_old = np.load\n",
    "np.load = lambda *a,**k: np_load_old(*a, allow_pickle=True, **k)"
   ]
  },
  {
   "cell_type": "code",
   "execution_count": 2,
   "metadata": {},
   "outputs": [],
   "source": [
    "BATCH_SIZE=8\n",
    "DATA_AMOUNT=2000000\n",
    "VALIDATION_AMOUNT=100000\n",
    "#frames per sample / 3rd dimension for 3D CNN\n",
    "depth=8"
   ]
  },
  {
   "cell_type": "code",
   "execution_count": 3,
   "metadata": {},
   "outputs": [],
   "source": [
    "def build_model(\n",
    "                input_shape=(1,80, 80, 1),\n",
    "                stride_length=(1, 1, 1),\n",
    "                kernel=(3,3,3),\n",
    "                kernel_initializer='glorot_uniform',\n",
    "                activation=layers.Activation('relu'),\n",
    "                dense_activation=layers.Activation('relu'),\n",
    "                output_activation=layers.Activation('softmax'),\n",
    "                batch_momentum=.999,\n",
    "                dropout_chance=0.2,\n",
    "                combine=True,\n",
    "                padding='same',\n",
    "                batch_norm=False,\n",
    "                dropout=False\n",
    "            ):\n",
    "    name = \"3D CNN\"\n",
    "    inputs = layers.Input(shape=input_shape)\n",
    "    x = inputs\n",
    "    conv_parameters = {\n",
    "        'padding': padding,\n",
    "        'strides': stride_length,\n",
    "        'kernel_initializer': kernel_initializer,\n",
    "    }\n",
    "    # encode net\n",
    "    #if batch_norm:\n",
    "    #    x = layers.BatchNormalization(momentum=batch_momentum)(x)\n",
    "    #elif dropout:\n",
    "    #    x = layers.Dropout(dropout_chance)(x)\n",
    "    #x = activation(x)\n",
    "    x = layers.Conv3D(8, kernel, **conv_parameters)(x)\n",
    "    x = layers.MaxPooling3D((1, 2, 2), padding=padding)(x)\n",
    "    x = layers.Conv3D(16, kernel, **conv_parameters)(x)\n",
    "    x = layers.Conv3D(16, kernel, **conv_parameters)(x)\n",
    "    x = layers.MaxPooling3D((2, 2, 2), padding=padding)(x)\n",
    "    x = layers.Conv3D(32, kernel, **conv_parameters)(x)\n",
    "    x = layers.Conv3D(32, kernel, **conv_parameters)(x)\n",
    "    x = layers.MaxPooling3D((2, 2, 2), padding=padding)(x)\n",
    "    x = layers.Conv3D(64, kernel, **conv_parameters)(x)\n",
    "    x = layers.Conv3D(64, kernel, **conv_parameters)(x)\n",
    "    x = layers.MaxPooling3D((2, 2, 2), padding=padding)(x)\n",
    "    x = activation(x)\n",
    "    x = layers.GlobalAveragePooling3D()(x)\n",
    "    output = output_activation(x)\n",
    "    model = keras.models.Model(inputs, output)\n",
    "    model.compile(\n",
    "        optimizer=keras.optimizers.SGD(\n",
    "            learning_rate=1e-4,\n",
    "            momentum=0.9,\n",
    "            nesterov=True,\n",
    "            decay=1e-6\n",
    "        ),\n",
    "        loss='sparse_categorical_crossentropy',\n",
    "        metrics=['accuracy']\n",
    "    )\n",
    "    return model,name"
   ]
  },
  {
   "cell_type": "code",
   "execution_count": 4,
   "metadata": {},
   "outputs": [
    {
     "name": "stderr",
     "output_type": "stream",
     "text": [
      "WARNING: Logging before flag parsing goes to stderr.\n",
      "W0723 15:47:55.383274 140086897731392 deprecation.py:506] From /home/ap487/miniconda3/envs/tf2_gpu/lib/python3.7/site-packages/tensorflow/python/ops/init_ops.py:1251: calling VarianceScaling.__init__ (from tensorflow.python.ops.init_ops) with dtype is deprecated and will be removed in a future version.\n",
      "Instructions for updating:\n",
      "Call initializer instance with the dtype argument instead of passing it to the constructor\n"
     ]
    },
    {
     "name": "stdout",
     "output_type": "stream",
     "text": [
      "Model: \"model\"\n",
      "_________________________________________________________________\n",
      "Layer (type)                 Output Shape              Param #   \n",
      "=================================================================\n",
      "input_1 (InputLayer)         [(None, 8, 80, 80, 1)]    0         \n",
      "_________________________________________________________________\n",
      "conv3d (Conv3D)              (None, 8, 80, 80, 8)      224       \n",
      "_________________________________________________________________\n",
      "max_pooling3d (MaxPooling3D) (None, 8, 40, 40, 8)      0         \n",
      "_________________________________________________________________\n",
      "conv3d_1 (Conv3D)            (None, 8, 40, 40, 16)     3472      \n",
      "_________________________________________________________________\n",
      "conv3d_2 (Conv3D)            (None, 8, 40, 40, 16)     6928      \n",
      "_________________________________________________________________\n",
      "max_pooling3d_1 (MaxPooling3 (None, 4, 20, 20, 16)     0         \n",
      "_________________________________________________________________\n",
      "conv3d_3 (Conv3D)            (None, 4, 20, 20, 32)     13856     \n",
      "_________________________________________________________________\n",
      "conv3d_4 (Conv3D)            (None, 4, 20, 20, 32)     27680     \n",
      "_________________________________________________________________\n",
      "max_pooling3d_2 (MaxPooling3 (None, 2, 10, 10, 32)     0         \n",
      "_________________________________________________________________\n",
      "conv3d_5 (Conv3D)            (None, 2, 10, 10, 64)     55360     \n",
      "_________________________________________________________________\n",
      "conv3d_6 (Conv3D)            (None, 2, 10, 10, 64)     110656    \n",
      "_________________________________________________________________\n",
      "max_pooling3d_3 (MaxPooling3 (None, 1, 5, 5, 64)       0         \n",
      "_________________________________________________________________\n",
      "activation (Activation)      (None, 1, 5, 5, 64)       0         \n",
      "_________________________________________________________________\n",
      "global_average_pooling3d (Gl (None, 64)                0         \n",
      "_________________________________________________________________\n",
      "activation_2 (Activation)    (None, 64)                0         \n",
      "=================================================================\n",
      "Total params: 218,176\n",
      "Trainable params: 218,176\n",
      "Non-trainable params: 0\n",
      "_________________________________________________________________\n",
      "None\n"
     ]
    }
   ],
   "source": [
    "if not depth == 1:\n",
    "    model,name = build_model(input_shape=(depth,80,80,1))\n",
    "else:\n",
    "    model,name = build_model()\n",
    "print(model.summary())"
   ]
  },
  {
   "cell_type": "code",
   "execution_count": null,
   "metadata": {
    "scrolled": true
   },
   "outputs": [
    {
     "name": "stdout",
     "output_type": "stream",
     "text": [
      "Epoch 1/5\n"
     ]
    },
    {
     "data": {
      "application/vnd.jupyter.widget-view+json": {
       "model_id": "b1155f7dbcf340ed8ba25dbaff2baebc",
       "version_major": 2,
       "version_minor": 0
      },
      "text/plain": [
       "HBox(children=(IntProgress(value=0, max=80), HTML(value='')))"
      ]
     },
     "metadata": {},
     "output_type": "display_data"
    },
    {
     "name": "stdout",
     "output_type": "stream",
     "text": [
      "Metrics: loss: 3.0284 - acc: 0.1135 - val_loss: 1.9728 - val_acc: 0.3958\n",
      "\n",
      "Epoch 2/5\n"
     ]
    },
    {
     "data": {
      "application/vnd.jupyter.widget-view+json": {
       "model_id": "ed09572cf98e4e649f3dc9642693db03",
       "version_major": 2,
       "version_minor": 0
      },
      "text/plain": [
       "HBox(children=(IntProgress(value=0, max=80), HTML(value='')))"
      ]
     },
     "metadata": {},
     "output_type": "display_data"
    },
    {
     "name": "stdout",
     "output_type": "stream",
     "text": [
      "Metrics: loss: 1.9670 - acc: 0.3686 - val_loss: 1.5774 - val_acc: 0.5016\n",
      "\n",
      "Epoch 3/5\n"
     ]
    },
    {
     "data": {
      "application/vnd.jupyter.widget-view+json": {
       "model_id": "3ee136d5fc5d4225a6d11cc94d953928",
       "version_major": 2,
       "version_minor": 0
      },
      "text/plain": [
       "HBox(children=(IntProgress(value=0, max=80), HTML(value='')))"
      ]
     },
     "metadata": {},
     "output_type": "display_data"
    },
    {
     "name": "stdout",
     "output_type": "stream",
     "text": [
      "Metrics: loss: 1.7032 - acc: 0.4616 - val_loss: 1.6152 - val_acc: 0.4824\n",
      "\n",
      "Epoch 4/5\n"
     ]
    },
    {
     "data": {
      "application/vnd.jupyter.widget-view+json": {
       "model_id": "191d421ce4fa45ef9face47b6e4c8c4b",
       "version_major": 2,
       "version_minor": 0
      },
      "text/plain": [
       "HBox(children=(IntProgress(value=0, max=80), HTML(value='')))"
      ]
     },
     "metadata": {},
     "output_type": "display_data"
    },
    {
     "name": "stdout",
     "output_type": "stream",
     "text": [
      "Metrics: loss: 1.5748 - acc: 0.4892\r"
     ]
    }
   ],
   "source": [
    "data_gen = DataGenerator(\"images_raw_doric_round1.h5\",data_amount=DATA_AMOUNT,batch_size=BATCH_SIZE,frames_per_sample=depth)\n",
    "validation_gen = DataGenerator(\"images_raw_doric_round1.h5\",data_amount=VALIDATION_AMOUNT,batch_size=BATCH_SIZE,frames_per_sample=depth,offset=DATA_AMOUNT)\n",
    "history = model.fit_generator(generator=data_gen,\n",
    "                    validation_data=validation_gen,\n",
    "                    epochs=5,\n",
    "                    verbose=0,\n",
    "                    use_multiprocessing=True,\n",
    "                    workers=10,\n",
    "                    callbacks=[Logger.JupyterProgbarLogger(),\n",
    "                              keras.callbacks.EarlyStopping(monitor='val_acc', min_delta=0, patience=10,verbose=1, mode='auto',restore_best_weights=True)]\n",
    "                   )"
   ]
  },
  {
   "cell_type": "code",
   "execution_count": null,
   "metadata": {
    "scrolled": true
   },
   "outputs": [],
   "source": [
    "def accuracy(predictions, answers):\n",
    "    accs = np.zeros(len(answers))\n",
    "    for i in range(0,len(answers)):\n",
    "        if(predictions[i]==answers[i]):\n",
    "            accs[i]=1\n",
    "    return np.mean(accs)"
   ]
  },
  {
   "cell_type": "code",
   "execution_count": null,
   "metadata": {},
   "outputs": [],
   "source": [
    "with h5py.File(\"images_raw_doric_round1.h5\",'r') as f:\n",
    "    test_data=np.zeros((1000,depth,80,80))\n",
    "    test_labels=np.zeros(1000)\n",
    "    i=0\n",
    "    #Starting index for batch samples\n",
    "    index = 2000000\n",
    "    while i < 1000:\n",
    "        #Loop forward to add to the frame sequence\n",
    "        cur_amount = 0\n",
    "        while cur_amount < depth:\n",
    "            label = f[\"/labels\"][index]\n",
    "            if label >= 0:\n",
    "                test_data[i][cur_amount]=f[\"/frames/raw\"][index]\n",
    "                test_labels[i]=f[\"/labels\"][index]\n",
    "                index+=1\n",
    "                cur_amount+=1\n",
    "            else:\n",
    "                index+=1\n",
    "        i+=1\n",
    "    test_data = test_data[...,None]"
   ]
  },
  {
   "cell_type": "code",
   "execution_count": null,
   "metadata": {},
   "outputs": [],
   "source": [
    "p = model.predict(test_data)\n",
    "predicts = np.zeros(len(test_labels))\n",
    "for i in range(0,len(p)):\n",
    "    predicts[i]=np.argmax(p[i])"
   ]
  },
  {
   "cell_type": "code",
   "execution_count": null,
   "metadata": {},
   "outputs": [],
   "source": [
    "print(accuracy(predicts,test_labels))\n",
    "print(metrics.f1_score(test_labels,predicts,average=None))"
   ]
  },
  {
   "cell_type": "code",
   "execution_count": null,
   "metadata": {},
   "outputs": [],
   "source": [
    "model_benchmarks = np.load(\"benchmarks.npy\")\n",
    "model_benchmarks.item()[name]=metrics.f1_score(test_labels,predicts,average=None)\n",
    "np.save(\"benchmarks.npy\",model_benchmarks)\n",
    "print(model_benchmarks)"
   ]
  },
  {
   "cell_type": "code",
   "execution_count": null,
   "metadata": {},
   "outputs": [],
   "source": [
    "plt.plot(predicts)\n",
    "plt.plot(test_labels)\n",
    "#with h5py.File(\"images_raw_doric_round1.h5\",'r') as f:\n",
    "#    lbls = f[\"/labels\"][:2000000:depth]\n",
    "#plt.plot(lbls)\n",
    "plt.xlim(800,830)\n",
    "plt.show()"
   ]
  },
  {
   "cell_type": "code",
   "execution_count": null,
   "metadata": {},
   "outputs": [],
   "source": [
    "#Old Data Function -- using DataGenerator now.\n",
    "def sort_data(data,labels,train_len,val_len,test_len,blocksize=1):\n",
    "    curBlock = labels[0]\n",
    "    train_data = np.zeros((train_len,80,80,1))\n",
    "    val_data = np.zeros((val_len,80,80,1))\n",
    "    test_data = np.zeros((test_len,80,80,1))\n",
    "    train_labels = np.full(train_len,-1)\n",
    "    val_labels = np.full(val_len,-1)\n",
    "    test_labels = np.full(test_len,-1)\n",
    "    train_ind = 0\n",
    "    val_ind = 0\n",
    "    test_ind = 0\n",
    "    choices = np.arange(3)\n",
    "    i=0\n",
    "    cur_len = 0\n",
    "    while i < len(data):\n",
    "        start = i-cur_len\n",
    "        iter_amt = len(data) if blocksize == 1 else blocksize\n",
    "        while labels[i]==curBlock and cur_len < iter_amt:\n",
    "            i+=1\n",
    "            cur_len+=1\n",
    "            if i == len(data):\n",
    "                break\n",
    "        end = i\n",
    "        if not i == len(data):\n",
    "            if labels[i]==curBlock:\n",
    "                cur_len-=int(blocksize/2)\n",
    "            else:\n",
    "                cur_len=0\n",
    "            curBlock = labels[i]\n",
    "        if not blocksize == 1 and end-start < blocksize:\n",
    "            continue\n",
    "        cur_frames = data[start:end]\n",
    "        cur_labels = labels[start:end]\n",
    "        choice=-1\n",
    "        if choices.size>0:\n",
    "            choice = np.random.choice(choices)\n",
    "        else:\n",
    "            break\n",
    "        if choice == 0:\n",
    "            if train_ind + len(cur_frames) >= train_len:\n",
    "                cur_frames = cur_frames[:train_len-train_ind]\n",
    "                cur_labels = cur_labels[:train_len-train_ind]\n",
    "                choices=np.delete(choices,np.argwhere(choices==0))\n",
    "            train_data[train_ind:train_ind+len(cur_frames)]=cur_frames\n",
    "            train_labels[train_ind:train_ind+len(cur_frames)]=cur_labels\n",
    "            train_ind += len(cur_frames)\n",
    "        elif choice == 1:\n",
    "            if val_ind + len(cur_frames) >= val_len:\n",
    "                cur_frames = cur_frames[:val_len-val_ind]\n",
    "                cur_labels = cur_labels[:val_len-val_ind]\n",
    "                choices=np.delete(choices,np.argwhere(choices==1))\n",
    "            val_data[val_ind:val_ind+len(cur_frames)]=cur_frames\n",
    "            val_labels[val_ind:val_ind+len(cur_frames)]=cur_labels\n",
    "            val_ind += len(cur_frames)\n",
    "        elif choice == 2:\n",
    "            if test_ind + len(cur_frames) >= test_len:\n",
    "                cur_frames = cur_frames[:test_len-test_ind]\n",
    "                cur_labels = cur_labels[:test_len-test_ind]\n",
    "                choices=np.delete(choices,np.argwhere(choices==2))\n",
    "            test_data[test_ind:test_ind+len(cur_frames)]=cur_frames\n",
    "            test_labels[test_ind:test_ind+len(cur_frames)]=cur_labels\n",
    "            test_ind += len(cur_frames)\n",
    "    return train_data[:train_ind-(train_ind%blocksize)],train_labels[:train_ind-(train_ind%blocksize)],val_data[:val_ind-(val_ind%blocksize)],val_labels[:val_ind-(val_ind%blocksize)],test_data[:test_ind-(test_ind%blocksize)],test_labels[:test_ind-(test_ind%blocksize)]"
   ]
  },
  {
   "cell_type": "code",
   "execution_count": null,
   "metadata": {},
   "outputs": [],
   "source": [
    "with h5py.File(\"images_raw_doric_round1.h5\",'r') as f:\n",
    "    print(f[\"/labels\"][0:130])\n",
    "data_gen.__getitem__(1)[1]"
   ]
  },
  {
   "cell_type": "code",
   "execution_count": null,
   "metadata": {},
   "outputs": [],
   "source": [
    "pl = model.predict(data_gen.__getitem__(518)[0])\n",
    "plc = np.zeros(len(pl))\n",
    "for i in range (0,len(pl)):\n",
    "    plc[i]=np.argmax(pl[i])\n",
    "plt.plot(plc)\n",
    "plt.plot(data_gen.__getitem__(518)[1])\n",
    "plt.show()"
   ]
  },
  {
   "cell_type": "code",
   "execution_count": null,
   "metadata": {},
   "outputs": [],
   "source": []
  }
 ],
 "metadata": {
  "kernelspec": {
   "display_name": "Python 3",
   "language": "python",
   "name": "python3"
  },
  "language_info": {
   "codemirror_mode": {
    "name": "ipython",
    "version": 3
   },
   "file_extension": ".py",
   "mimetype": "text/x-python",
   "name": "python",
   "nbconvert_exporter": "python",
   "pygments_lexer": "ipython3",
   "version": "3.7.3"
  }
 },
 "nbformat": 4,
 "nbformat_minor": 2
}
