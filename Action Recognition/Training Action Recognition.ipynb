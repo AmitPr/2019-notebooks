{
 "cells": [
  {
   "cell_type": "code",
   "execution_count": 2,
   "metadata": {},
   "outputs": [
    {
     "name": "stdout",
     "output_type": "stream",
     "text": [
      "Wed Jul 17 15:31:26 2019       \r\n",
      "+-----------------------------------------------------------------------------+\r\n",
      "| NVIDIA-SMI 418.56       Driver Version: 418.56       CUDA Version: 10.1     |\r\n",
      "|-------------------------------+----------------------+----------------------+\r\n",
      "| GPU  Name        Persistence-M| Bus-Id        Disp.A | Volatile Uncorr. ECC |\r\n",
      "| Fan  Temp  Perf  Pwr:Usage/Cap|         Memory-Usage | GPU-Util  Compute M. |\r\n",
      "|===============================+======================+======================|\r\n",
      "|   0  GeForce MX150       Off  | 00000000:01:00.0 Off |                  N/A |\r\n",
      "| N/A   61C    P0    N/A /  N/A |    381MiB /  2002MiB |      0%      Default |\r\n",
      "+-------------------------------+----------------------+----------------------+\r\n",
      "                                                                               \r\n",
      "+-----------------------------------------------------------------------------+\r\n",
      "| Processes:                                                       GPU Memory |\r\n",
      "|  GPU       PID   Type   Process name                             Usage      |\r\n",
      "|=============================================================================|\r\n",
      "|    0      1209      G   /usr/lib/xorg/Xorg                           229MiB |\r\n",
      "|    0      2056      G   /usr/bin/gnome-shell                         151MiB |\r\n",
      "+-----------------------------------------------------------------------------+\r\n"
     ]
    }
   ],
   "source": [
    "!nvidia-smi"
   ]
  },
  {
   "cell_type": "code",
   "execution_count": 2,
   "metadata": {},
   "outputs": [],
   "source": [
    "from __future__ import absolute_import, division, print_function, unicode_literals\n",
    "%matplotlib inline\n",
    "\n",
    "import tensorflow as tf\n",
    "from tensorflow import keras\n",
    "\n",
    "from tensorflow.keras import layers\n",
    "from tensorflow.keras.callbacks import TensorBoard\n",
    "#Progress bar fix: use callbacks=[Logger.JupyterProgbarLogger()] in model.fit\n",
    "#verbose=0 is also required\n",
    "import JupyterProgbarLogger as Logger\n",
    "from tqdm import tqdm_notebook as tqdm\n",
    "from kerastuner.tuners import RandomSearch\n",
    "\n",
    "import sklearn.metrics as metrics\n",
    "\n",
    "import numpy as np\n",
    "import random\n",
    "import math\n",
    "import matplotlib.pyplot as plt\n",
    "\n",
    "import h5py\n",
    "\n",
    "###FIX NUMPY LOAD FOR DICTIONARIES\\\n",
    "np_load_old = np.load\n",
    "np.load = lambda *a,**k: np_load_old(*a, allow_pickle=True, **k)"
   ]
  },
  {
   "cell_type": "code",
   "execution_count": 28,
   "metadata": {},
   "outputs": [],
   "source": [
    "BATCH_SIZE=8\n",
    "DATA_AMOUNT=1000000"
   ]
  },
  {
   "cell_type": "code",
   "execution_count": 29,
   "metadata": {},
   "outputs": [],
   "source": [
    "def sort_data(data,labels,train_len,val_len,test_len,blocksize=1):\n",
    "    curBlock = labels[0]\n",
    "    train_data = np.zeros((train_len,80,80,1))\n",
    "    val_data = np.zeros((val_len,80,80,1))\n",
    "    test_data = np.zeros((test_len,80,80,1))\n",
    "    train_labels = np.full(train_len,-1)\n",
    "    val_labels = np.full(val_len,-1)\n",
    "    test_labels = np.full(test_len,-1)\n",
    "    train_ind = 0\n",
    "    val_ind = 0\n",
    "    test_ind = 0\n",
    "    choices = np.arange(3)\n",
    "    i=0\n",
    "    cur_len = 0\n",
    "    while i < len(data):\n",
    "        start = i-cur_len\n",
    "        iter_amt = len(data) if blocksize == 1 else blocksize\n",
    "        while labels[i]==curBlock and cur_len < iter_amt:\n",
    "            i+=1\n",
    "            cur_len+=1\n",
    "            if i == len(data):\n",
    "                break\n",
    "        end = i\n",
    "        if not i == len(data):\n",
    "            if labels[i]==curBlock:\n",
    "                cur_len-=int(blocksize/2)\n",
    "            else:\n",
    "                cur_len=0\n",
    "            curBlock = labels[i]\n",
    "        if not blocksize == 1 and end-start < blocksize:\n",
    "            continue\n",
    "        cur_frames = data[start:end]\n",
    "        cur_labels = labels[start:end]\n",
    "        choice=-1\n",
    "        if choices.size>0:\n",
    "            choice = np.random.choice(choices)\n",
    "        else:\n",
    "            break\n",
    "        if choice == 0:\n",
    "            if train_ind + len(cur_frames) >= train_len:\n",
    "                cur_frames = cur_frames[:train_len-train_ind]\n",
    "                cur_labels = cur_labels[:train_len-train_ind]\n",
    "                choices=np.delete(choices,np.argwhere(choices==0))\n",
    "            train_data[train_ind:train_ind+len(cur_frames)]=cur_frames\n",
    "            train_labels[train_ind:train_ind+len(cur_frames)]=cur_labels\n",
    "            train_ind += len(cur_frames)\n",
    "        elif choice == 1:\n",
    "            if val_ind + len(cur_frames) >= val_len:\n",
    "                cur_frames = cur_frames[:val_len-val_ind]\n",
    "                cur_labels = cur_labels[:val_len-val_ind]\n",
    "                choices=np.delete(choices,np.argwhere(choices==1))\n",
    "            val_data[val_ind:val_ind+len(cur_frames)]=cur_frames\n",
    "            val_labels[val_ind:val_ind+len(cur_frames)]=cur_labels\n",
    "            val_ind += len(cur_frames)\n",
    "        elif choice == 2:\n",
    "            if test_ind + len(cur_frames) >= test_len:\n",
    "                cur_frames = cur_frames[:test_len-test_ind]\n",
    "                cur_labels = cur_labels[:test_len-test_ind]\n",
    "                choices=np.delete(choices,np.argwhere(choices==2))\n",
    "            test_data[test_ind:test_ind+len(cur_frames)]=cur_frames\n",
    "            test_labels[test_ind:test_ind+len(cur_frames)]=cur_labels\n",
    "            test_ind += len(cur_frames)\n",
    "    return train_data[:train_ind-(train_ind%blocksize)],train_labels[:train_ind-(train_ind%blocksize)],val_data[:val_ind-(val_ind%blocksize)],val_labels[:val_ind-(val_ind%blocksize)],test_data[:test_ind-(test_ind%blocksize)],test_labels[:test_ind-(test_ind%blocksize)]"
   ]
  },
  {
   "cell_type": "code",
   "execution_count": 30,
   "metadata": {},
   "outputs": [],
   "source": [
    "file_path = \"images_raw_doric_round1.h5\"\n",
    "with h5py.File(file_path,'r') as f:\n",
    "    labels = f['/labels'][:DATA_AMOUNT]\n",
    "    data = f['/frames/raw'][:DATA_AMOUNT]\n",
    "data = data[(labels>=0)]\n",
    "labels = labels[(labels>=0)]\n",
    "DATA_AMOUNT=len(data)\n",
    "if len(data.shape) < 4:\n",
    "    data=data[...,None]\n",
    "tl = math.floor(DATA_AMOUNT/2)\n",
    "vl=tsl=math.floor(DATA_AMOUNT/4)\n",
    "depth=32\n",
    "train_data,train_labels,val_data,val_labels,test_data,test_labels = sort_data(data,labels,tl,vl,tsl,blocksize=depth)\n",
    "del data\n",
    "del labels"
   ]
  },
  {
   "cell_type": "code",
   "execution_count": 43,
   "metadata": {},
   "outputs": [],
   "source": [
    "def build_model(\n",
    "                input_shape=(1,80, 80, 1),\n",
    "                stride_length=(1, 1, 1),\n",
    "                kernel=(3,3,3),\n",
    "                kernel_initializer='glorot_uniform',\n",
    "                activation=layers.Activation('elu'),\n",
    "                dense_activation=layers.Activation('relu'),\n",
    "                output_activation=layers.Activation('softmax'),\n",
    "                batch_momentum=.999,\n",
    "                dropout_chance=0.2,\n",
    "                combine=True,\n",
    "                padding='valid',\n",
    "                batch_norm=False,\n",
    "                dropout=False\n",
    "            ):\n",
    "    name = \"3D CNN\"\n",
    "    nfilters=[64,128,256]\n",
    "    inputs = layers.Input(shape=input_shape)\n",
    "    x = inputs\n",
    "\n",
    "\n",
    "    conv_parameters = {\n",
    "        'padding': padding,\n",
    "        'strides': stride_length,\n",
    "        'kernel_initializer': kernel_initializer\n",
    "    }\n",
    "\n",
    "\n",
    "    # encode net\n",
    "    for filters in nfilters:\n",
    "        x = layers.Conv3D(filters, kernel, **conv_parameters)(x)\n",
    "        if batch_norm:\n",
    "            x = layers.BatchNormalization(momentum=batch_momentum)(x)\n",
    "        elif dropout:\n",
    "            x = layers.Dropout(dropout_chance)(x)\n",
    "        #x = activation(x)\n",
    "        x = layers.MaxPooling3D((2, 2, 2), padding=padding)(x)\n",
    "    x = activation(x)\n",
    "    x = layers.GlobalAveragePooling3D()(x)\n",
    "    output = output_activation(x)\n",
    "\n",
    "\n",
    "    model = keras.models.Model(inputs, output)\n",
    "    model.compile(\n",
    "        optimizer=keras.optimizers.SGD(\n",
    "            learning_rate=1e-3,\n",
    "            momentum=0.9,\n",
    "            nesterov=True,\n",
    "            decay=1e-6\n",
    "        ),\n",
    "        loss='sparse_categorical_crossentropy',\n",
    "        metrics=['accuracy']\n",
    "    )\n",
    "    return model,name"
   ]
  },
  {
   "cell_type": "code",
   "execution_count": 50,
   "metadata": {},
   "outputs": [
    {
     "name": "stdout",
     "output_type": "stream",
     "text": [
      "Model: \"model_6\"\n",
      "_________________________________________________________________\n",
      "Layer (type)                 Output Shape              Param #   \n",
      "=================================================================\n",
      "input_7 (InputLayer)         [(None, 32, 80, 80, 1)]   0         \n",
      "_________________________________________________________________\n",
      "conv3d_18 (Conv3D)           (None, 30, 78, 78, 64)    1792      \n",
      "_________________________________________________________________\n",
      "dropout (Dropout)            (None, 30, 78, 78, 64)    0         \n",
      "_________________________________________________________________\n",
      "max_pooling3d_18 (MaxPooling (None, 15, 39, 39, 64)    0         \n",
      "_________________________________________________________________\n",
      "conv3d_19 (Conv3D)           (None, 13, 37, 37, 128)   221312    \n",
      "_________________________________________________________________\n",
      "dropout_1 (Dropout)          (None, 13, 37, 37, 128)   0         \n",
      "_________________________________________________________________\n",
      "max_pooling3d_19 (MaxPooling (None, 6, 18, 18, 128)    0         \n",
      "_________________________________________________________________\n",
      "conv3d_20 (Conv3D)           (None, 4, 16, 16, 256)    884992    \n",
      "_________________________________________________________________\n",
      "dropout_2 (Dropout)          (None, 4, 16, 16, 256)    0         \n",
      "_________________________________________________________________\n",
      "max_pooling3d_20 (MaxPooling (None, 2, 8, 8, 256)      0         \n",
      "_________________________________________________________________\n",
      "activation_15 (Activation)   (None, 2, 8, 8, 256)      0         \n",
      "_________________________________________________________________\n",
      "global_average_pooling3d_6 ( (None, 256)               0         \n",
      "_________________________________________________________________\n",
      "activation_17 (Activation)   (None, 256)               0         \n",
      "=================================================================\n",
      "Total params: 1,108,096\n",
      "Trainable params: 1,108,096\n",
      "Non-trainable params: 0\n",
      "_________________________________________________________________\n",
      "None\n"
     ]
    }
   ],
   "source": [
    "if not depth == 1:\n",
    "    model,name = build_model(input_shape=(depth,80,80,1),dropout=True,dropout_chance=0.05)\n",
    "    if(len(train_data.shape)<5):\n",
    "        train_data=np.reshape(train_data,(int(len(train_data)/depth),depth,80,80,1))\n",
    "        val_data=np.reshape(val_data,(int(len(val_data)/depth),depth,80,80,1))\n",
    "        test_data=np.reshape(test_data,(int(len(test_data)/depth),depth,80,80,1))\n",
    "        train_labels=train_labels[::depth]\n",
    "        val_labels=val_labels[::depth]\n",
    "        test_labels=test_labels[::depth]\n",
    "else:\n",
    "    model,name = build_model()\n",
    "print(model.summary())"
   ]
  },
  {
   "cell_type": "code",
   "execution_count": null,
   "metadata": {
    "scrolled": true
   },
   "outputs": [
    {
     "name": "stdout",
     "output_type": "stream",
     "text": [
      "Epoch 1/20\n"
     ]
    },
    {
     "data": {
      "application/vnd.jupyter.widget-view+json": {
       "model_id": "2c8d73ef146b459ab2ddd7206550571c",
       "version_major": 2,
       "version_minor": 0
      },
      "text/plain": [
       "HBox(children=(IntProgress(value=0, max=4305), HTML(value='')))"
      ]
     },
     "metadata": {},
     "output_type": "display_data"
    },
    {
     "name": "stdout",
     "output_type": "stream",
     "text": [
      "Metrics: loss: 2.7067 - accuracy: 0.2569 - val_loss: 4.0120 - val_accuracy: 0.2339\n",
      "Epoch 2/20\n"
     ]
    },
    {
     "data": {
      "application/vnd.jupyter.widget-view+json": {
       "model_id": "21e0c541b4b94d67a2f66873b7956812",
       "version_major": 2,
       "version_minor": 0
      },
      "text/plain": [
       "HBox(children=(IntProgress(value=0, max=4305), HTML(value='')))"
      ]
     },
     "metadata": {},
     "output_type": "display_data"
    },
    {
     "name": "stdout",
     "output_type": "stream",
     "text": [
      "Metrics: loss: 1.9689 - accuracy: 0.4103 - val_loss: 2.4759 - val_accuracy: 0.3079\n",
      "Epoch 3/20\n"
     ]
    },
    {
     "data": {
      "application/vnd.jupyter.widget-view+json": {
       "model_id": "a46f8cbc30a94dd69ba69209d46f5f3e",
       "version_major": 2,
       "version_minor": 0
      },
      "text/plain": [
       "HBox(children=(IntProgress(value=0, max=4305), HTML(value='')))"
      ]
     },
     "metadata": {},
     "output_type": "display_data"
    },
    {
     "name": "stdout",
     "output_type": "stream",
     "text": [
      "Metrics: loss: 1.5508 - accuracy: 0.4930\r"
     ]
    }
   ],
   "source": [
    "history = model.fit(train_data,\n",
    "                    train_labels,\n",
    "                    epochs=20,\n",
    "                    verbose=0,\n",
    "                    batch_size=BATCH_SIZE,\n",
    "                    validation_data=(val_data,val_labels),\n",
    "                    callbacks=[Logger.JupyterProgbarLogger(),\n",
    "                              keras.callbacks.EarlyStopping(monitor='val_accuracy', min_delta=0, patience=4,verbose=1, mode='auto',restore_best_weights=True)]\n",
    "                   )"
   ]
  },
  {
   "cell_type": "code",
   "execution_count": 46,
   "metadata": {
    "scrolled": true
   },
   "outputs": [],
   "source": [
    "def accuracy(predictions, answers):\n",
    "    accs = np.zeros(len(answers))\n",
    "    for i in range(0,len(answers)):\n",
    "        if(predictions[i]==answers[i]):\n",
    "            accs[i]=1\n",
    "    return np.mean(accs)"
   ]
  },
  {
   "cell_type": "code",
   "execution_count": 47,
   "metadata": {},
   "outputs": [],
   "source": [
    "predicts = np.argmax(model.predict(test_data),1)"
   ]
  },
  {
   "cell_type": "code",
   "execution_count": 48,
   "metadata": {},
   "outputs": [
    {
     "data": {
      "image/png": "[encoded data removed]",
      "text/plain": [
       "<Figure size 432x288 with 1 Axes>"
      ]
     },
     "metadata": {
      "needs_background": "light"
     },
     "output_type": "display_data"
    }
   ],
   "source": [
    "#plt.hist((test_labels,predicts), density=True, histtype='bar', stacked=True, label = (\"Data\",\"Predictions\"))\n",
    "#plt.legend()\n",
    "plt.plot(test_labels)\n",
    "plt.plot(predicts)\n",
    "plt.xlim(0,100)\n",
    "plt.show()"
   ]
  },
  {
   "cell_type": "code",
   "execution_count": 49,
   "metadata": {},
   "outputs": [
    {
     "name": "stdout",
     "output_type": "stream",
     "text": [
      "0.6691871455576559\n"
     ]
    },
    {
     "name": "stderr",
     "output_type": "stream",
     "text": [
      "/home/g17amitprasad_gmail_com/miniconda3/envs/tf2_gpu/lib/python3.6/site-packages/sklearn/metrics/classification.py:1437: UndefinedMetricWarning: F-score is ill-defined and being set to 0.0 in labels with no predicted samples.\n",
      "  'precision', 'predicted', average, warn_for)\n"
     ]
    },
    {
     "name": "stdout",
     "output_type": "stream",
     "text": [
      "[0.33333333 0.5        0.         0.17391304 0.74626866 0.\n",
      " 0.49101796 0.34482759 0.53333333 0.58646617 0.         0.69432684\n",
      " 0.11764706 0.53268765 0.66       0.44444444 0.54901961 0.62414579\n",
      " 0.7221458  0.28571429 0.58333333 0.33333333 0.42352941 0.66666667\n",
      " 0.15384615 0.76056338 0.52631579 0.65671642 0.4789916  0.\n",
      " 0.79192274 0.         0.76086957 0.2        0.         0.56928839\n",
      " 0.26086957 0.         0.77142857 0.8447205  0.88489209]\n"
     ]
    }
   ],
   "source": [
    "print(accuracy(predicts,test_labels))\n",
    "print(metrics.f1_score(test_labels,predicts,average=None))"
   ]
  },
  {
   "cell_type": "code",
   "execution_count": 19,
   "metadata": {},
   "outputs": [
    {
     "name": "stdout",
     "output_type": "stream",
     "text": [
      "{'1 Layer Dense Network': array([0.46618575, 0.27247742, 0.48602151, 0.36122178, 0.15432099,\n",
      "       0.36488937, 0.3859046 , 0.32602586, 0.2880833 , 0.39107907,\n",
      "       0.51577438, 0.28681424, 0.49356074, 0.26632302, 0.37476878,\n",
      "       0.40254372, 0.14771395, 0.51322506, 0.39089395, 0.17578125,\n",
      "       0.36832094, 0.62829181, 0.24502297, 0.32725378, 0.4789644 ,\n",
      "       0.47865088, 0.36679058, 0.50231651, 0.65810205, 0.23820225,\n",
      "       0.38169123, 0.31713555, 0.04507042, 0.54093501, 0.48360656,\n",
      "       0.46909198, 0.41709054, 0.36550633, 0.28907563, 0.12060547,\n",
      "       0.29662261, 0.38914027, 0.27966102, 0.43824701, 0.58083832]), '2D CNN adapted': array([0.5265411 , 0.29414317, 0.48564529, 0.40661305, 0.24107143,\n",
      "       0.35022603, 0.07470289, 0.34450063, 0.37993921, 0.43052838,\n",
      "       0.56092347, 0.31166518, 0.53421878, 0.36348338, 0.45591787,\n",
      "       0.44144144, 0.29506008, 0.52034154, 0.5625    , 0.26865672,\n",
      "       0.3621186 , 0.71426392, 0.2652439 , 0.41851495, 0.24637681,\n",
      "       0.47349053, 0.39105431, 0.50123389, 0.68921061, 0.31885246,\n",
      "       0.33838973, 0.32906925, 0.18276762, 0.61778697, 0.46484375,\n",
      "       0.50315347, 0.47280799, 0.34422658, 0.08823529, 0.31802266,\n",
      "       0.46813441, 0.39539347, 0.26732673, 0.62193823, 0.75466999]), '3D CNN': array([0.4516129 , 0.        , 0.23076923, 0.27586207, 0.54545455,\n",
      "       0.        , 0.53475936, 0.27433628, 0.5625    , 0.64233577,\n",
      "       0.        , 0.70708796, 0.22222222, 0.5147929 , 0.625     ,\n",
      "       0.        , 0.27586207, 0.        , 0.61212121, 0.71300894,\n",
      "       0.4       , 0.38095238, 0.        , 0.5021645 , 0.34782609,\n",
      "       0.38461538, 0.70684932, 0.41176471, 0.65306122, 0.63716814,\n",
      "       0.79405204, 0.70605613, 0.34146341, 0.43478261, 0.5752809 ,\n",
      "       0.26666667, 0.62068966, 0.6557377 , 0.84541063, 0.85344828])}\n"
     ]
    }
   ],
   "source": [
    "model_benchmarks = np.load(\"benchmarks.npy\")\n",
    "model_benchmarks.item()[name]=metrics.f1_score(test_labels,predicts,average=None)\n",
    "np.save(\"benchmarks.npy\",model_benchmarks)\n",
    "print(model_benchmarks)"
   ]
  },
  {
   "cell_type": "code",
   "execution_count": null,
   "metadata": {},
   "outputs": [],
   "source": [
    "print(train_data.shape)"
   ]
  },
  {
   "cell_type": "code",
   "execution_count": null,
   "metadata": {},
   "outputs": [],
   "source": [
    "print(test_labels[0:300])"
   ]
  },
  {
   "cell_type": "code",
   "execution_count": null,
   "metadata": {},
   "outputs": [],
   "source": [
    "plt.plot(labels)\n",
    "ind = 500\n",
    "plt.xlim(ind,ind+10)\n",
    "plt.show()"
   ]
  },
  {
   "cell_type": "code",
   "execution_count": null,
   "metadata": {},
   "outputs": [],
   "source": [
    "plt.hist((train_labels,val_labels,test_labels),density=True)\n",
    "#plt.hist(train_labels,46,density=True)\n",
    "plt.show()"
   ]
  },
  {
   "cell_type": "code",
   "execution_count": null,
   "metadata": {},
   "outputs": [],
   "source": []
  }
 ],
 "metadata": {
  "kernelspec": {
   "display_name": "Python 3",
   "language": "python",
   "name": "python3"
  },
  "language_info": {
   "codemirror_mode": {
    "name": "ipython",
    "version": 3
   },
   "file_extension": ".py",
   "mimetype": "text/x-python",
   "name": "python",
   "nbconvert_exporter": "python",
   "pygments_lexer": "ipython3",
   "version": "3.7.3"
  }
 },
 "nbformat": 4,
 "nbformat_minor": 2
}
