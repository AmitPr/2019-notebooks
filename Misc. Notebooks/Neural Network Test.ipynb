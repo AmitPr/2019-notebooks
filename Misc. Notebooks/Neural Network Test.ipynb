{
 "cells": [
  {
   "cell_type": "code",
   "execution_count": 2,
   "metadata": {
    "scrolled": true
   },
   "outputs": [],
   "source": [
    "from __future__ import absolute_import, division, print_function, unicode_literals\n",
    "\n",
    "import tensorflow as tf\n",
    "from tensorflow import keras\n",
    "from tensorflow.keras import layers\n",
    "from kerastuner.tuners import RandomSearch\n",
    "\n",
    "import numpy as np\n",
    "import matplotlib.pyplot as plt"
   ]
  },
  {
   "cell_type": "code",
   "execution_count": 3,
   "metadata": {},
   "outputs": [],
   "source": [
    "class_names = ['T-shirt/top', 'Trouser', 'Pullover', 'Dress', 'Coat',\n",
    "               'Sandal', 'Shirt', 'Sneaker', 'Bag', 'Ankle boot']"
   ]
  },
  {
   "cell_type": "code",
   "execution_count": 4,
   "metadata": {},
   "outputs": [],
   "source": [
    "(train_img,train_lbl),(test_img,test_lbl)=keras.datasets.fashion_mnist.load_data()\n",
    "train_img=train_img/255.0\n",
    "test_img=test_img/255.0\n",
    "img_val=train_img[:10000]\n",
    "lbl_val=train_lbl[:10000]\n",
    "part_train_img=train_img[10000:]\n",
    "part_train_lbl=train_lbl[10000:]"
   ]
  },
  {
   "cell_type": "code",
   "execution_count": 5,
   "metadata": {},
   "outputs": [],
   "source": [
    "def build_model(hp):\n",
    "    model = keras.Sequential([\n",
    "        keras.layers.Flatten(input_shape=(28, 28)),\n",
    "        #keras.layers.Dense(units=hp.Range('units',min_value=32,max_value=512,step=32,default=128), activation='relu'),\n",
    "        keras.layers.Dense(128, activation='relu'),\n",
    "        keras.layers.Dropout(0.5),\n",
    "        keras.layers.Dense(10, activation='softmax')\n",
    "    ])\n",
    "    model.compile(optimizer=keras.optimizers.SGD(learning_rate=0.01),\n",
    "                  loss='sparse_categorical_crossentropy',\n",
    "                  metrics=['accuracy'])\n",
    "    return model;"
   ]
  },
  {
   "cell_type": "code",
   "execution_count": 6,
   "metadata": {},
   "outputs": [],
   "source": [
    "#tuner=RandomSearch(build_model, objective='val_accuracy', max_trials=5, executions_per_trial=3)\n",
    "#tuner.search_space_summary()\n",
    "#tuner.search(part_train_img, part_train_lbl, epochs=5, validation_data=(img_val,lbl_val))\n",
    "#tuner.results_summary()"
   ]
  },
  {
   "cell_type": "code",
   "execution_count": 7,
   "metadata": {},
   "outputs": [],
   "source": [
    "model = keras.Sequential([\n",
    "    keras.layers.Flatten(input_shape=(28, 28)),\n",
    "    keras.layers.Dense(128, activation='relu'),\n",
    "    keras.layers.Dropout(0.5),\n",
    "    keras.layers.Dense(10, activation='softmax')\n",
    "])\n",
    "    #tuner.get_best_models(num_models=1)[0]\n",
    "model.compile(optimizer=keras.optimizers.SGD(learning_rate=0.01),\n",
    "              loss='sparse_categorical_crossentropy',\n",
    "                  metrics=['accuracy'])"
   ]
  },
  {
   "cell_type": "code",
   "execution_count": null,
   "metadata": {},
   "outputs": [
    {
     "name": "stdout",
     "output_type": "stream",
     "text": [
      "Train on 50000 samples, validate on 10000 samples\n"
     ]
    }
   ],
   "source": [
    "history = model.fit(part_train_img,\n",
    "                    part_train_lbl,\n",
    "                    epochs=2,\n",
    "                    validation_data=(img_val,lbl_val),\n",
    "                    verbose=1\n",
    "                   )\n",
    "model.evaluate(test_img,test_lbl)\n",
    "hd=history.history\n",
    "acc=hd['accuracy']\n",
    "epochs = range(1,len(acc)+1)\n",
    "plt.plot(epochs,acc,'bo',label='Training acc')\n",
    "plt.plot(epochs,hd['val_accuracy'],'b',label='Validation acc')\n",
    "plt.xlabel('Epochs')\n",
    "plt.ylabel('Accuracy')\n",
    "plt.legend()\n",
    "plt.show()"
   ]
  },
  {
   "cell_type": "code",
   "execution_count": 8,
   "metadata": {},
   "outputs": [
    {
     "name": "stdout",
     "output_type": "stream",
     "text": [
      "10000/10000 [==============================] - ETA: 2s - loss: 0.3569 - accuracy: 0.87 - ETA: 2s - loss: 0.2687 - accuracy: 0.90 - ETA: 3s - loss: 0.2922 - accuracy: 0.89 - ETA: 2s - loss: 0.3132 - accuracy: 0.88 - ETA: 1s - loss: 0.3383 - accuracy: 0.87 - ETA: 1s - loss: 0.3300 - accuracy: 0.87 - ETA: 0s - loss: 0.3250 - accuracy: 0.87 - ETA: 0s - loss: 0.3480 - accuracy: 0.87 - ETA: 0s - loss: 0.3595 - accuracy: 0.87 - ETA: 0s - loss: 0.3600 - accuracy: 0.87 - ETA: 0s - loss: 0.3624 - accuracy: 0.86 - ETA: 0s - loss: 0.3722 - accuracy: 0.86 - ETA: 0s - loss: 0.3688 - accuracy: 0.86 - ETA: 0s - loss: 0.3692 - accuracy: 0.86 - ETA: 0s - loss: 0.3615 - accuracy: 0.87 - ETA: 0s - loss: 0.3606 - accuracy: 0.87 - ETA: 0s - loss: 0.3629 - accuracy: 0.87 - ETA: 0s - loss: 0.3637 - accuracy: 0.87 - 1s 91us/sample - loss: 0.3613 - accuracy: 0.8716\n"
     ]
    },
    {
     "data": {
      "text/plain": [
       "[0.3612662261486054, 0.8716]"
      ]
     },
     "execution_count": 8,
     "metadata": {},
     "output_type": "execute_result"
    }
   ],
   "source": [
    "model.evaluate(test_img, test_lbl)"
   ]
  },
  {
   "cell_type": "code",
   "execution_count": null,
   "metadata": {},
   "outputs": [],
   "source": []
  }
 ],
 "metadata": {
  "kernelspec": {
   "display_name": "Python 3",
   "language": "python",
   "name": "python3"
  },
  "language_info": {
   "codemirror_mode": {
    "name": "ipython",
    "version": 3
   },
   "file_extension": ".py",
   "mimetype": "text/x-python",
   "name": "python",
   "nbconvert_exporter": "python",
   "pygments_lexer": "ipython3",
   "version": "3.6.8"
  }
 },
 "nbformat": 4,
 "nbformat_minor": 2
}
