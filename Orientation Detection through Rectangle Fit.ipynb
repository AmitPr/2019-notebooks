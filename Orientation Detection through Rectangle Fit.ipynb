{
 "cells": [
  {
   "cell_type": "code",
   "execution_count": 1,
   "metadata": {},
   "outputs": [],
   "source": [
    "from __future__ import absolute_import, division, print_function, unicode_literals\n",
    "%matplotlib inline\n",
    "\n",
    "from time import time\n",
    "import math\n",
    "import numpy as np\n",
    "import random\n",
    "import matplotlib.pyplot as plt\n",
    "from tqdm import tqdm_notebook as tqdm\n",
    "\n",
    "from PIL import Image\n",
    "import cv2\n",
    "\n",
    "import h5py\n",
    "\n",
    "from multiprocessing import Pool as ThreadPool"
   ]
  },
  {
   "cell_type": "code",
   "execution_count": 2,
   "metadata": {
    "scrolled": true
   },
   "outputs": [],
   "source": [
    "file_path = \"/home/amitp/Documents/Python/Training Orientation Detection/training_dataset_all_doric_cabled.h5\"\n",
    "with h5py.File(file_path,'r') as f:\n",
    "    data = f['/frames'][:322280]\n",
    "#for i in range(len(data)):\n",
    "#    cv2.fastNlMeansDenoising(data[i],data[i],h=3,searchWindowSize=7,templateWindowSize=5)\n",
    "#    if(i%1000==0):\n",
    "#        print(\"\\rProgress: {}%     \".format(i*100/len(data)), end='')"
   ]
  },
  {
   "cell_type": "code",
   "execution_count": 3,
   "metadata": {},
   "outputs": [
    {
     "data": {
      "application/vnd.jupyter.widget-view+json": {
       "model_id": "9fed4959a964420384bb2ccefe2c1a87",
       "version_major": 2,
       "version_minor": 0
      },
      "text/plain": [
       "HBox(children=(IntProgress(value=0, max=322280), HTML(value='')))"
      ]
     },
     "metadata": {},
     "output_type": "display_data"
    },
    {
     "name": "stdout",
     "output_type": "stream",
     "text": [
      "\n"
     ]
    }
   ],
   "source": [
    "def RotateFrame(args):\n",
    "    i=args[0]\n",
    "    frame=args[1]\n",
    "    a = angles[i]\n",
    "    rotated=np.array(Image.fromarray(frame).rotate(a))\n",
    "    noise=np.abs(np.random.normal(0,10,(80,80))).astype(np.uint8)\n",
    "    return np.array(rotated)+noise\n",
    "angles = np.load('/home/amitp/Documents/Python/Training Orientation Detection/angles.npy')\n",
    "pool = ThreadPool(8)\n",
    "i=0\n",
    "for val in tqdm(pool.imap(RotateFrame,list(enumerate(data))), total=len(data)):\n",
    "    data[i]=val\n",
    "    i+=1\n",
    "pool.close()\n",
    "pool.join()"
   ]
  },
  {
   "cell_type": "code",
   "execution_count": 4,
   "metadata": {},
   "outputs": [],
   "source": [
    "def getAccuracy(predictions,reference):\n",
    "    acc = np.ndarray(predictions.shape)\n",
    "    for i in range(len(predictions)):\n",
    "        err = abs(predictions[i]-reference[i])\n",
    "        if(err<15 or err>165):\n",
    "            if err>165:\n",
    "                predictions[i]=180-predictions[i]\n",
    "            acc[i]=1\n",
    "        else:\n",
    "            acc[i]=0\n",
    "    return(np.mean(acc))"
   ]
  },
  {
   "cell_type": "code",
   "execution_count": 5,
   "metadata": {},
   "outputs": [],
   "source": [
    "def OrientationFromImage(frame):\n",
    "    #T,im = cv2.threshold(frame,thresh,255,cv2.THRESH_BINARY)\n",
    "    im= cv2.adaptiveThreshold(frame,255, cv2.ADAPTIVE_THRESH_MEAN_C,cv2.THRESH_BINARY,91,1)\n",
    "    im = cv2.erode(im,kernel = np.ones((11,11),np.uint8),iterations = 1)\n",
    "    im = cv2.dilate(im,kernel = np.ones((4,4),np.uint8),iterations = 1)\n",
    "    _,contours,_=cv2.findContours(im,2,2)\n",
    "    if(len(contours)>0):\n",
    "        cnt = contours[0]\n",
    "        moments = cv2.moments(cnt)\n",
    "        angle = -0.5*np.arctan2(2*moments[\"mu11\"],moments[\"mu20\"]-moments[\"mu02\"])\n",
    "        angle =angle*180/np.pi\n",
    "        if(angle<0):\n",
    "            angle=180+angle\n",
    "        return angle\n",
    "    else:\n",
    "        return 0"
   ]
  },
  {
   "cell_type": "code",
   "execution_count": 6,
   "metadata": {
    "scrolled": true
   },
   "outputs": [
    {
     "data": {
      "application/vnd.jupyter.widget-view+json": {
       "model_id": "05cc412d34e04509808c11f17d3b5b02",
       "version_major": 2,
       "version_minor": 0
      },
      "text/plain": [
       "HBox(children=(IntProgress(value=0, max=322280), HTML(value='')))"
      ]
     },
     "metadata": {},
     "output_type": "display_data"
    },
    {
     "name": "stdout",
     "output_type": "stream",
     "text": [
      "\n",
      "0.9821521658185429\n"
     ]
    }
   ],
   "source": [
    "predics= np.zeros(len(data))\n",
    "pool = ThreadPool(8)\n",
    "i=0\n",
    "for val in tqdm(pool.imap(OrientationFromImage,data,chunksize=100), total=len(data)):\n",
    "    predics[i]=val\n",
    "    i+=1\n",
    "pool.close()\n",
    "pool.join()\n",
    "print(getAccuracy(predics,angles))"
   ]
  },
  {
   "cell_type": "code",
   "execution_count": null,
   "metadata": {},
   "outputs": [],
   "source": [
    "neural_predics = np.load('/home/amitp/Documents/Python/Training Orientation Detection/neural_net.npy')\n",
    "print(getAccuracy(predics,angles))\n",
    "print(getAccuracy(neural_predics,angles))"
   ]
  },
  {
   "cell_type": "code",
   "execution_count": null,
   "metadata": {},
   "outputs": [],
   "source": [
    "#ip_error = abs(angles-predics)\n",
    "nn_error = abs(angles-neural_predics)\n",
    "#diff_error = abs(nn_error-ip_error)\n",
    "outliers = np.ndarray(1)\n",
    "threshold=140\n",
    "sortedIdx = np.argsort(ip_error)[::-1]\n",
    "#sortedIdx=sortedIdx[ip_error[sortedIdx]<threshold]\n",
    "i = 0\n",
    "imgDbg=True\n",
    "for j in range(0,10):\n",
    "    plt.figure(j)\n",
    "    #while nn_error[sortedIdx[i]] > 15:# or ip_error[sortedIdx[i]]>threshold:\n",
    "    #    i+=1\n",
    "    if imgDbg:\n",
    "        plt.imshow(imageDebug(data[sortedIdx[i]]))\n",
    "    else:\n",
    "        plt.imshow(data[sortedIdx[i]])\n",
    "    plt.text(2,4,ip_error[sortedIdx[i]],bbox=dict(facecolor='white', alpha=0.5))\n",
    "    plt.text(2,10,predics[sortedIdx[i]],bbox=dict(facecolor='white', alpha=0.5))\n",
    "    plt.text(2,16,sortedIdx[i],bbox=dict(facecolor='white', alpha=0.5))\n",
    "    plt.show()\n",
    "    i+=1\n",
    "fig=plt.figure()\n",
    "plt.plot(ip_error)#,'b.',label=\"IP Error\")\n",
    "plt.plot(nn_error)#,'r.',label=\"NN Error\")\n",
    "#plt.plot(diff_error)\n",
    "fig.suptitle('Graphing Error', fontsize=20)\n",
    "plt.xlabel('# of Samples', fontsize=14)\n",
    "plt.ylabel('Error (deg)', fontsize=14)\n",
    "plt.legend()\n",
    "plt.xlim(0,1000)\n",
    "plt.show()\n",
    "fig.savefig('error.png')"
   ]
  },
  {
   "cell_type": "code",
   "execution_count": 7,
   "metadata": {},
   "outputs": [
    {
     "data": {
      "image/png": "[encoded data removed]",
      "text/plain": [
       "<Figure size 432x288 with 1 Axes>"
      ]
     },
     "metadata": {
      "needs_background": "light"
     },
     "output_type": "display_data"
    },
    {
     "name": "stdout",
     "output_type": "stream",
     "text": [
      "128.81102140992266\n",
      "122.72765383862702\n"
     ]
    }
   ],
   "source": [
    "def imageDebug(frame):\n",
    "    #T,im = cv2.threshold(frame,thresh,255,cv2.THRESH_BINARY)\n",
    "    im= cv2.adaptiveThreshold(frame,255, cv2.ADAPTIVE_THRESH_MEAN_C,cv2.THRESH_BINARY,91,1)\n",
    "    im = cv2.erode(im,kernel = np.ones((11,11),np.uint8),iterations = 1)\n",
    "    im = cv2.dilate(im,kernel = np.ones((4,4),np.uint8),iterations = 1)\n",
    "    _,contours,_=cv2.findContours(im,2,2)\n",
    "    #cv2.drawContours(im, contours, -1, 128, 3)\n",
    "    return im\n",
    "    if(len(contours)>0):\n",
    "        cnt = contours[0]\n",
    "        moments = cv2.moments(cnt)\n",
    "        angle = -0.5*np.arctan2(2*moments[\"mu11\"],moments[\"mu20\"]-moments[\"mu02\"])\n",
    "        angle =angle*180/np.pi\n",
    "        if(angle<0):\n",
    "            angle=180+angle\n",
    "        return angle\n",
    "    else:\n",
    "        return 0\n",
    "which_index=1\n",
    "plt.imshow(imageDebug(data[which_index]))\n",
    "plt.show()\n",
    "\n",
    "print(predics[which_index])\n",
    "print(angles[which_index])"
   ]
  },
  {
   "cell_type": "code",
   "execution_count": null,
   "metadata": {},
   "outputs": [],
   "source": [
    "print(np.mean(ip_error),np.mean(nn_error))"
   ]
  },
  {
   "cell_type": "code",
   "execution_count": null,
   "metadata": {},
   "outputs": [],
   "source": [
    "unique, counts = np.unique(np.sum(data,axis=(1,2)), return_counts=True)\n",
    "dict(zip(unique, counts))[0]"
   ]
  },
  {
   "cell_type": "code",
   "execution_count": 8,
   "metadata": {},
   "outputs": [
    {
     "data": {
      "image/png": "[encoded data removed]",
      "text/plain": [
       "<Figure size 432x288 with 1 Axes>"
      ]
     },
     "metadata": {
      "needs_background": "light"
     },
     "output_type": "display_data"
    },
    {
     "ename": "NameError",
     "evalue": "name 'imageDebug' is not defined",
     "output_type": "error",
     "traceback": [
      "\u001b[0;31m---------------------------------------------------------------------------\u001b[0m",
      "\u001b[0;31mNameError\u001b[0m                                 Traceback (most recent call last)",
      "\u001b[0;32m<ipython-input-8-26e4184ad2f8>\u001b[0m in \u001b[0;36m<module>\u001b[0;34m\u001b[0m\n\u001b[1;32m      3\u001b[0m \u001b[0mplt\u001b[0m\u001b[0;34m.\u001b[0m\u001b[0mimshow\u001b[0m\u001b[0;34m(\u001b[0m\u001b[0mtoShow\u001b[0m\u001b[0;34m)\u001b[0m\u001b[0;34m\u001b[0m\u001b[0;34m\u001b[0m\u001b[0m\n\u001b[1;32m      4\u001b[0m \u001b[0mplt\u001b[0m\u001b[0;34m.\u001b[0m\u001b[0mshow\u001b[0m\u001b[0;34m(\u001b[0m\u001b[0;34m)\u001b[0m\u001b[0;34m\u001b[0m\u001b[0;34m\u001b[0m\u001b[0m\n\u001b[0;32m----> 5\u001b[0;31m \u001b[0mtoShow\u001b[0m\u001b[0;34m=\u001b[0m\u001b[0mimageDebug\u001b[0m\u001b[0;34m(\u001b[0m\u001b[0mtoShow\u001b[0m\u001b[0;34m)\u001b[0m\u001b[0;34m\u001b[0m\u001b[0;34m\u001b[0m\u001b[0m\n\u001b[0m\u001b[1;32m      6\u001b[0m \u001b[0mplt\u001b[0m\u001b[0;34m.\u001b[0m\u001b[0mimshow\u001b[0m\u001b[0;34m(\u001b[0m\u001b[0mtoShow\u001b[0m\u001b[0;34m)\u001b[0m\u001b[0;34m\u001b[0m\u001b[0;34m\u001b[0m\u001b[0m\n\u001b[1;32m      7\u001b[0m \u001b[0mplt\u001b[0m\u001b[0;34m.\u001b[0m\u001b[0mshow\u001b[0m\u001b[0;34m(\u001b[0m\u001b[0;34m)\u001b[0m\u001b[0;34m\u001b[0m\u001b[0;34m\u001b[0m\u001b[0m\n",
      "\u001b[0;31mNameError\u001b[0m: name 'imageDebug' is not defined"
     ]
    }
   ],
   "source": [
    "noise=np.abs(np.random.normal(0,10,(80,80))).astype(np.uint8)\n",
    "toShow=(data[1]+noise)\n",
    "plt.imshow(toShow)\n",
    "plt.show()\n",
    "toShow=imageDebug(toShow)\n",
    "plt.imshow(toShow)\n",
    "plt.show()"
   ]
  },
  {
   "cell_type": "code",
   "execution_count": null,
   "metadata": {},
   "outputs": [],
   "source": []
  }
 ],
 "metadata": {
  "kernelspec": {
   "display_name": "Python 3",
   "language": "python",
   "name": "python3"
  },
  "language_info": {
   "codemirror_mode": {
    "name": "ipython",
    "version": 3
   },
   "file_extension": ".py",
   "mimetype": "text/x-python",
   "name": "python",
   "nbconvert_exporter": "python",
   "pygments_lexer": "ipython3",
   "version": "3.7.3"
  }
 },
 "nbformat": 4,
 "nbformat_minor": 2
}
