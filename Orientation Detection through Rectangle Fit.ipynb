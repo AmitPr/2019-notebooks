{
 "cells": [
  {
   "cell_type": "code",
   "execution_count": 1,
   "metadata": {},
   "outputs": [],
   "source": [
    "from __future__ import absolute_import, division, print_function, unicode_literals\n",
    "%matplotlib inline\n",
    "\n",
    "from time import time\n",
    "import math\n",
    "import numpy as np\n",
    "import random\n",
    "import matplotlib.pyplot as plt\n",
    "from functools import partial\n",
    "\n",
    "from tqdm import tqdm_notebook as tqdm\n",
    "\n",
    "from PIL import Image\n",
    "import cv2\n",
    "\n",
    "import h5py\n",
    "\n",
    "from multiprocessing import Pool as ThreadPool\n",
    "\n",
    "#Seed for reproducable results\n",
    "np.random.seed(0)"
   ]
  },
  {
   "cell_type": "code",
   "execution_count": 2,
   "metadata": {},
   "outputs": [],
   "source": [
    "DATA_AMOUNT=500000"
   ]
  },
  {
   "cell_type": "code",
   "execution_count": 3,
   "metadata": {
    "scrolled": true
   },
   "outputs": [],
   "source": [
    "file_path = \"/home/amitp/Documents/Python/Training Orientation Detection/training_dataset_all_doric_cabled.h5\"\n",
    "with h5py.File(file_path,'r') as f:\n",
    "    data = f['/frames'][:DATA_AMOUNT]\n",
    "    #data = data[::5]\n",
    "DATA_AMOUNT=len(data)"
   ]
  },
  {
   "cell_type": "code",
   "execution_count": 4,
   "metadata": {},
   "outputs": [],
   "source": [
    "def RotateFrame(frame,noise=0):\n",
    "    #Angle to rotate by\n",
    "    a = np.random.random()*180\n",
    "    #PIL to rotate images\n",
    "    rotated=np.array(Image.fromarray(frame).rotate(a))\n",
    "    #Added noise for testing\n",
    "    noisy=np.array(rotated)+np.random.normal(0,noise,(80,80))\n",
    "    #Clamp image values above 0\n",
    "    noisy[noisy<0] = 0\n",
    "    return noisy,a"
   ]
  },
  {
   "cell_type": "code",
   "execution_count": 5,
   "metadata": {},
   "outputs": [
    {
     "data": {
      "application/vnd.jupyter.widget-view+json": {
       "model_id": "d5de934cc4a8443296585f647f89296f",
       "version_major": 2,
       "version_minor": 0
      },
      "text/plain": [
       "HBox(children=(IntProgress(value=0, max=500000), HTML(value='')))"
      ]
     },
     "metadata": {},
     "output_type": "display_data"
    },
    {
     "name": "stdout",
     "output_type": "stream",
     "text": [
      "\n"
     ]
    }
   ],
   "source": [
    "angles=np.zeros(len(data))\n",
    "\n",
    "rotation_args = {\n",
    "    \"noise\":0\n",
    "}\n",
    "#Multithreaded image rotations using tqdm for progress\n",
    "pool = ThreadPool(8)\n",
    "i=0\n",
    "for val,a in tqdm(pool.imap(partial(RotateFrame,noise=rotation_args[\"noise\"]),data,chunksize=100), total=len(data)):\n",
    "    data[i]=val\n",
    "    angles[i]=a\n",
    "    i+=1\n",
    "pool.close()\n",
    "pool.join()"
   ]
  },
  {
   "cell_type": "code",
   "execution_count": 6,
   "metadata": {},
   "outputs": [],
   "source": [
    "def OrientationFromImage(frame,debug=False,blocksize=41,sub_const=-3):\n",
    "    im = cv2.adaptiveThreshold(frame,255, cv2.ADAPTIVE_THRESH_MEAN_C,cv2.THRESH_BINARY,blocksize,sub_const)\n",
    "    im = cv2.erode(im,kernel = np.ones((4,4),np.uint8),iterations = 3)\n",
    "    im = cv2.dilate(im,kernel = np.ones((4,4),np.uint8),iterations = 1)\n",
    "    if debug:\n",
    "        return im\n",
    "    _,contours,_=cv2.findContours(im,2,2)\n",
    "    if(len(contours)>0):\n",
    "        cnt = contours[0]\n",
    "        moments = cv2.moments(cnt)\n",
    "        angle = -0.5*np.arctan2(2*moments[\"mu11\"],moments[\"mu20\"]-moments[\"mu02\"])\n",
    "        angle =angle*180/np.pi\n",
    "        if(angle<0):\n",
    "            angle=180+angle\n",
    "        return angle\n",
    "    else:\n",
    "        return 0"
   ]
  },
  {
   "cell_type": "code",
   "execution_count": 7,
   "metadata": {},
   "outputs": [],
   "source": [
    "def meanError(arr):\n",
    "    for i in range(0,len(arr)):\n",
    "        if(abs(angles[i]-arr[i])>170):\n",
    "            arr[i]=180-arr[i]\n",
    "    return np.mean(abs(angles-predics))"
   ]
  },
  {
   "cell_type": "code",
   "execution_count": 8,
   "metadata": {
    "scrolled": true
   },
   "outputs": [
    {
     "data": {
      "application/vnd.jupyter.widget-view+json": {
       "model_id": "2d44f6dcc955451cb559c45ddbce4d70",
       "version_major": 2,
       "version_minor": 0
      },
      "text/plain": [
       "HBox(children=(IntProgress(value=0, max=500000), HTML(value='')))"
      ]
     },
     "metadata": {},
     "output_type": "display_data"
    },
    {
     "name": "stdout",
     "output_type": "stream",
     "text": [
      "\n",
      "Average Error (deg) for test: 2.730664776971453"
     ]
    }
   ],
   "source": [
    "#Angle prediction array\n",
    "predics= np.zeros(len(data))\n",
    "\n",
    "prediction_args = {\n",
    "    \"debug\":False,#Only use if you want the filtered images, not the angles\n",
    "    \"blocksize\":39,#Block size variable for adaptive thresholding\n",
    "    \"subtraction_constant\":-3#Constant value subtracted during thresholding\n",
    "}\n",
    "#Multithread predictions, using tqdm for progress bar, change the number of threads based on system.\n",
    "pool = ThreadPool(8)\n",
    "i=0\n",
    "for val in tqdm(pool.imap(partial(OrientationFromImage,\n",
    "                                  debug=prediction_args[\"debug\"],\n",
    "                                  blocksize=prediction_args[\"blocksize\"],\n",
    "                                  sub_const=prediction_args[\"subtraction_constant\"]),\n",
    "                          data,chunksize=1000), total=len(data)):\n",
    "    predics[i]=val\n",
    "    i+=1\n",
    "pool.close()\n",
    "pool.join()\n",
    "#Stats\n",
    "mean_error = meanError(predics)\n",
    "print(\"Average Error (deg) for test:\" , mean_error,end='')"
   ]
  },
  {
   "cell_type": "code",
   "execution_count": null,
   "metadata": {},
   "outputs": [],
   "source": []
  }
 ],
 "metadata": {
  "kernelspec": {
   "display_name": "Python 3",
   "language": "python",
   "name": "python3"
  },
  "language_info": {
   "codemirror_mode": {
    "name": "ipython",
    "version": 3
   },
   "file_extension": ".py",
   "mimetype": "text/x-python",
   "name": "python",
   "nbconvert_exporter": "python",
   "pygments_lexer": "ipython3",
   "version": "3.7.3"
  }
 },
 "nbformat": 4,
 "nbformat_minor": 2
}
